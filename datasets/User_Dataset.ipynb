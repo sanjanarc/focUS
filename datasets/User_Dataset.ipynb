{
  "nbformat": 4,
  "nbformat_minor": 0,
  "metadata": {
    "colab": {
      "name": "User_Dataset.ipynb",
      "provenance": [],
      "collapsed_sections": []
    },
    "kernelspec": {
      "name": "python3",
      "display_name": "Python 3"
    },
    "language_info": {
      "name": "python"
    }
  },
  "cells": [
    {
      "cell_type": "markdown",
      "source": [
        "####Import Libraries"
      ],
      "metadata": {
        "id": "Poa3QWqtEnn2"
      }
    },
    {
      "cell_type": "code",
      "source": [
        "import pandas as pd \n",
        "import numpy as np\n",
        "from numpy.random import choice\n",
        "import random\n"
      ],
      "metadata": {
        "id": "KBpU2D8E3J96"
      },
      "execution_count": 335,
      "outputs": []
    },
    {
      "cell_type": "markdown",
      "source": [
        "####Data generation"
      ],
      "metadata": {
        "id": "pt9xGa-02Yul"
      }
    },
    {
      "cell_type": "markdown",
      "source": [
        "Randomly generate user interests (up to 3 interests can be chosen at a time)\n",
        "\n"
      ],
      "metadata": {
        "id": "XuhsehubE5pA"
      }
    },
    {
      "cell_type": "code",
      "source": [
        "interestsList = [\"Health services\", \"Social services\" , \"Advocacy and Justice\", \"Food and Agriculture\", \"Education\", \"Environment and Climate change\", \"Recreation and Leisure\", \"Technology and Innovation\", \"Outreach and Advertising\", \"Child services\"]\n",
        "generatedInterestsListEn = []\n",
        "generatedInterestsList = []\n",
        "generatedBioList =[]"
      ],
      "metadata": {
        "id": "D4FL2a5pTSzS"
      },
      "execution_count": 366,
      "outputs": []
    },
    {
      "cell_type": "markdown",
      "source": [
        "Randomly generate user bios"
      ],
      "metadata": {
        "id": "snLrm18FU00O"
      }
    },
    {
      "cell_type": "code",
      "source": [
        "HealthServicesBio = ['I enjoy helping and caring for people within my community.', 'There isn’t equal access to medical services.','I imagine helping with blood donations and helping make health resources accessible to patients.','I want to move patients from one location to another in the hospital','I volunteered at St. Amant for two years where I assisted individuals living with developmental disabilities and autism.','I worked as a nurse in a hospital during Covid when there was lack of workforce.']\n",
        "SocialServicesBio = ['I am passionate about ensuring that society has the services and facilities it needs to support people from different social and economic backgrounds.','I really care about helping other people.','I imagine helping and fostering senior citizens with their daily needs.','I would like to conduct social and psycho-social assessments','I sorted and tagged clothing donations for homeless people at Salvation army for three years.','I helped with preparing food for the homeless']\n",
        "AdvocacyJusticeBio = ['I take social issues such as gender discrimination very seriously and want to create an equitable society.','I want to make a difference in the world.','I imagine standing up for people/animals less spoken for, through petitions and marches.','I want to organize events aimed to raise awareness to socio-economic inequalities within our society ', 'I volunteered at my local youth justice society assisting young people who have been in conflict with the law.','I helped with organising several conferences and workshops related to women rights']\n",
        "FoodAgricultureBio = ['I am passionate about the food industry as I really like promoting healthy eating habits.','I think everyone should have access to enough to eat to be healthy.','I imagine serving free food and vegetables in our local community shop.','I enjoy creating different dishes for others to taste, so I hope to be a part of the open kitchen to cook meals for the community.','As an active Serve and Grow volunteer, I planted, weeded, harvested and washed vegetables.','I worked as a farmer and mentor in Plainfield Heritage Farm.']\n",
        "EducationBio = ['I think everyone should have unrestricted access to education and be able to learn whatever they are passionate about.','I believe everyone should have the right to go to school.','I would like to support less privileged people in their learning process and education supplies they can’t afford.','I would like to teach children subjects such as math and science.','At a summer bootcamp, I taught French to primary and secondary school students.','I helped as a learning and development coordinator for AI4Good summer lab.']\n",
        "EnvironmentClimateChangeBio = ['Climate change is a global issue and I strongly believe in making Earth a sustainable planet.','Environmental degradation needs to be stopped.','Work with communities to actively dispose off garbage and to be conscious of Earth’s rising temperature and depleting vital resources.','I want to help conduct a protest outside of the city centre to raise awareness for climate change.', 'I volunteered as a facilitator for the Impact of Climate Change on Human Rights event.','I participated in several nature cleaning activities.']\n",
        "RecreationLeisureBio = ['I worked as a guitarist in a local restaurant for six months.','Last summer, I coached a U16 girls soccer team.','I want to host outdoor events in my community to promote active living.','Helping conduct swimming and other field games and mentoring team-spirit.','I think play and sports are important for children’s development.','I am really passionate about sports and want to teach them to other people.']\n",
        "TechnologyInnovationBio = ['I enjoy working with technological and electronic items as I am interested in learning about Robotics.','Helping people with technology is really cool to me.','Teaching basic internet applications to people and helping them with smart technology.','I hope to salvage old computers and repurpose them into something new and usable.','I was a guest panelist for a computer science and technology webinar.','I participated as a guest speaker in a webinar about machine learning.']\n",
        "OutreachAndAdvertising = ['Worked as an outreach program coordinator for Edmonton Horticultural Society.','Throughout my university years, I was the outreach coordinator for my program.','I want to promote upcoming events hosted by local businesses or artists.', 'Contributing in small startups and equipping people with the right resources.','I like to engage in community service and help people advertise themselves to the public.','I really want to interact with the public.']\n",
        "ChildServicesBio = ['It is so fun working with kids and I love playing with them.','I really care about making the world safer for kids.','Helping children with vaccination drives and childcare facilities like crutch and daycare.','I want to coordinate living solutions for any child that is being mistreated or neglected; I help find them a new and safe home to go to.','For two weeks during winter break, I volunteered full-time at a day care.','I provided support for the child and family during the child abuse investigation process.']\n"
      ],
      "metadata": {
        "id": "w2GgdHWTUxaY"
      },
      "execution_count": 367,
      "outputs": []
    },
    {
      "cell_type": "code",
      "source": [
        "bioList = [HealthServicesBio, SocialServicesBio, AdvocacyJusticeBio, FoodAgricultureBio, EducationBio, EnvironmentClimateChangeBio, RecreationLeisureBio,\n",
        "           TechnologyInnovationBio, OutreachAndAdvertising, ChildServicesBio]"
      ],
      "metadata": {
        "id": "PuR_oHpYUtwn"
      },
      "execution_count": 368,
      "outputs": []
    },
    {
      "cell_type": "markdown",
      "source": [
        "Encode interests to machine readable binary numbers "
      ],
      "metadata": {
        "id": "UhryR8nfqGIy"
      }
    },
    {
      "cell_type": "code",
      "source": [
        "for i in range(200):\n",
        "  # randomly choose number of interests \n",
        "  numInterests = random.randint(1,3) \n",
        "  \n",
        "  emptyString =\"\"\n",
        "  user_InterestsEn =[0,0,0,0,0,0,0,0,0,0]\n",
        "  user_Interests = []\n",
        "  user_Bios =[]\n",
        "  for x in range(numInterests):\n",
        "    generatedInterest = random.choices(interestsList, [0.1,0.1,0.1,0.1,0.1,0.1,0.1,0.1,0.1,0.1])\n",
        "    # to avoid duplicates\n",
        "    while (generatedInterest in user_Interests):\n",
        "        generatedInterest = random.choices(interestsList, [0.1,0.1,0.1,0.1,0.1,0.1,0.1,0.1,0.1,0.1])\n",
        "    \n",
        "    index = interestsList.index(generatedInterest[0])\n",
        "\n",
        "    user_InterestsEn[index] = 1\n",
        "    generatedBio = random.choices(bioList[index], [0.16, 0.16,0.16, 0.16,0.16, 0.2])\n",
        "    generatedBio2 = random.choices(bioList[index], [0.16, 0.16,0.16,0.16,0.16, 0.2])\n",
        "\n",
        "    generatedBio = emptyString.join(generatedBio)\n",
        "    generatedBio2 = emptyString.join(generatedBio2)\n",
        "\n",
        "    user_Interests.append(generatedInterest[0])\n",
        "    user_Bios.append(generatedBio)\n",
        "    user_Bios.append(generatedBio2)\n",
        "  \n",
        "  generatedInterestsListEn.append(user_InterestsEn)\n",
        "  generatedInterestsList.append(user_Interests)\n",
        "  generatedBioList.append(user_Bios)"
      ],
      "metadata": {
        "id": "aoq6aO7v9vBC"
      },
      "execution_count": 369,
      "outputs": []
    },
    {
      "cell_type": "markdown",
      "source": [
        "Randomly generate user age with respect to age demographics in NYC\n",
        "\n"
      ],
      "metadata": {
        "id": "6ziUpjYcFozU"
      }
    },
    {
      "cell_type": "code",
      "source": [
        "ageList = [0,1,2]\n",
        "\n",
        "generatedAgeArray = choice(ageList,200, p=[0.10,0.78,0.12])"
      ],
      "metadata": {
        "id": "mN1cqQYT348m"
      },
      "execution_count": 370,
      "outputs": []
    },
    {
      "cell_type": "markdown",
      "source": [
        "Randomly generate user borough with respect to population demographics in NYC"
      ],
      "metadata": {
        "id": "fzahpwyfGHYh"
      }
    },
    {
      "cell_type": "code",
      "source": [
        "boroughList = [\"BRONX\", \"BROOKLYN\", \"MANHATTAN\", \"QUEENS\", \"STATEN IS\"]\n",
        "\n",
        "generatedBoroughArray = choice(boroughList,200, p=[0.17,0.31,0.19,0.27,0.06])"
      ],
      "metadata": {
        "id": "FPfq-kI934vs"
      },
      "execution_count": 371,
      "outputs": []
    },
    {
      "cell_type": "markdown",
      "source": [
        "Create dictionary with user information"
      ],
      "metadata": {
        "id": "1wYT56fqGUxM"
      }
    },
    {
      "cell_type": "code",
      "source": [
        "dict = {'Age': generatedAgeArray, 'Borough': generatedBoroughArray, 'Interests': generatedInterestsList, \"Biography\" : generatedBioList} \n"
      ],
      "metadata": {
        "id": "ZR6ebqga34Zt"
      },
      "execution_count": 372,
      "outputs": []
    },
    {
      "cell_type": "markdown",
      "source": [
        "Save pre encoded user dataset to csv \n",
        "\n",
        "\n"
      ],
      "metadata": {
        "id": "_Dtw8MMpbjHd"
      }
    },
    {
      "cell_type": "code",
      "source": [
        "#df = pd.DataFrame(dict)\n",
        "#df.to_csv('/content/preencoding_user_final_dataset.csv')"
      ],
      "metadata": {
        "id": "X1uwJTCfb2U1"
      },
      "execution_count": 373,
      "outputs": []
    },
    {
      "cell_type": "markdown",
      "source": [
        "Extract function to get all items in multiple lists at given index"
      ],
      "metadata": {
        "id": "LHMYZ8jDqQ3t"
      }
    },
    {
      "cell_type": "code",
      "source": [
        "def Extract(list,index):\n",
        "    return [item[index] for item in list]"
      ],
      "metadata": {
        "id": "eJJK-8qXqPwT"
      },
      "execution_count": 374,
      "outputs": []
    },
    {
      "cell_type": "markdown",
      "source": [
        "dictionary keys ▶ interests  \n",
        "dictionary values ▶ whether the interest is chosen "
      ],
      "metadata": {
        "id": "bhtORshVqiXg"
      }
    },
    {
      "cell_type": "code",
      "source": [
        "for i in interestsList:\n",
        "  dict[i] = Extract(generatedInterestsListEn,interestsList.index(i))"
      ],
      "metadata": {
        "id": "1cjUO7yWjSxk"
      },
      "execution_count": 375,
      "outputs": []
    },
    {
      "cell_type": "markdown",
      "source": [
        "Create dataframe with user information generated above"
      ],
      "metadata": {
        "id": "HW6SWISmHE9R"
      }
    },
    {
      "cell_type": "code",
      "source": [
        "df = pd.DataFrame(dict)"
      ],
      "metadata": {
        "id": "jSN_Rezs4Dqg"
      },
      "execution_count": 376,
      "outputs": []
    },
    {
      "cell_type": "markdown",
      "source": [
        "One hot encode NYC Boroughs"
      ],
      "metadata": {
        "id": "KPdRxXdArbvm"
      }
    },
    {
      "cell_type": "code",
      "source": [
        "one_hotBoroughs = pd.get_dummies(df['Borough'])"
      ],
      "metadata": {
        "id": "V0PzXzSLPBC5"
      },
      "execution_count": 377,
      "outputs": []
    },
    {
      "cell_type": "markdown",
      "source": [
        "Join dataframes "
      ],
      "metadata": {
        "id": "ANezR_TLrkZ5"
      }
    },
    {
      "cell_type": "code",
      "source": [
        "df_final= df.join(one_hotBoroughs)"
      ],
      "metadata": {
        "id": "_rUs3mHsPPGO"
      },
      "execution_count": 378,
      "outputs": []
    },
    {
      "cell_type": "markdown",
      "source": [
        "Final User Dataset"
      ],
      "metadata": {
        "id": "wfyeSvjCrmvO"
      }
    },
    {
      "cell_type": "code",
      "source": [
        "df_final"
      ],
      "metadata": {
        "colab": {
          "base_uri": "https://localhost:8080/",
          "height": 1000
        },
        "id": "4HVo3BCBPcYS",
        "outputId": "80b79e5c-6674-42a2-fe96-0dec6ee22442"
      },
      "execution_count": 379,
      "outputs": [
        {
          "output_type": "execute_result",
          "data": {
            "text/plain": [
              "     Age    Borough                                          Interests  \\\n",
              "0      1     QUEENS                  [Education, Advocacy and Justice]   \n",
              "1      1      BRONX                                  [Social services]   \n",
              "2      1     QUEENS                                   [Child services]   \n",
              "3      1     QUEENS                                   [Child services]   \n",
              "4      0  STATEN IS  [Outreach and Advertising, Environment and Cli...   \n",
              "..   ...        ...                                                ...   \n",
              "195    1     QUEENS                             [Food and Agriculture]   \n",
              "196    0   BROOKLYN         [Child services, Outreach and Advertising]   \n",
              "197    1  MANHATTAN                                  [Health services]   \n",
              "198    1   BROOKLYN   [Child services, Environment and Climate change]   \n",
              "199    1  MANHATTAN       [Advocacy and Justice, Food and Agriculture]   \n",
              "\n",
              "                                             Biography  Health services  \\\n",
              "0    [I would like to teach children subjects such ...                0   \n",
              "1    [I helped with preparing food for the homeless...                0   \n",
              "2    [I want to coordinate living solutions for any...                0   \n",
              "3    [It is so fun working with kids and I love pla...                0   \n",
              "4    [Contributing in small startups and equipping ...                0   \n",
              "..                                                 ...              ...   \n",
              "195  [I imagine serving free food and vegetables in...                0   \n",
              "196  [I really care about making the world safer fo...                0   \n",
              "197  [I imagine helping with blood donations and he...                1   \n",
              "198  [I provided support for the child and family d...                0   \n",
              "199  [I want to make a difference in the world., I ...                0   \n",
              "\n",
              "     Social services  Advocacy and Justice  Food and Agriculture  Education  \\\n",
              "0                  0                     1                     0          1   \n",
              "1                  1                     0                     0          0   \n",
              "2                  0                     0                     0          0   \n",
              "3                  0                     0                     0          0   \n",
              "4                  0                     0                     0          0   \n",
              "..               ...                   ...                   ...        ...   \n",
              "195                0                     0                     1          0   \n",
              "196                0                     0                     0          0   \n",
              "197                0                     0                     0          0   \n",
              "198                0                     0                     0          0   \n",
              "199                0                     1                     1          0   \n",
              "\n",
              "     Environment and Climate change  Recreation and Leisure  \\\n",
              "0                                 0                       0   \n",
              "1                                 0                       0   \n",
              "2                                 0                       0   \n",
              "3                                 0                       0   \n",
              "4                                 1                       0   \n",
              "..                              ...                     ...   \n",
              "195                               0                       0   \n",
              "196                               0                       0   \n",
              "197                               0                       0   \n",
              "198                               1                       0   \n",
              "199                               0                       0   \n",
              "\n",
              "     Technology and Innovation  Outreach and Advertising  Child services  \\\n",
              "0                            0                         0               0   \n",
              "1                            0                         0               0   \n",
              "2                            0                         0               1   \n",
              "3                            0                         0               1   \n",
              "4                            0                         1               0   \n",
              "..                         ...                       ...             ...   \n",
              "195                          0                         0               0   \n",
              "196                          0                         1               1   \n",
              "197                          0                         0               0   \n",
              "198                          0                         0               1   \n",
              "199                          0                         0               0   \n",
              "\n",
              "     BRONX  BROOKLYN  MANHATTAN  QUEENS  STATEN IS  \n",
              "0        0         0          0       1          0  \n",
              "1        1         0          0       0          0  \n",
              "2        0         0          0       1          0  \n",
              "3        0         0          0       1          0  \n",
              "4        0         0          0       0          1  \n",
              "..     ...       ...        ...     ...        ...  \n",
              "195      0         0          0       1          0  \n",
              "196      0         1          0       0          0  \n",
              "197      0         0          1       0          0  \n",
              "198      0         1          0       0          0  \n",
              "199      0         0          1       0          0  \n",
              "\n",
              "[200 rows x 19 columns]"
            ],
            "text/html": [
              "\n",
              "  <div id=\"df-fe976ee4-bc35-4256-8642-9453d9a4f58e\">\n",
              "    <div class=\"colab-df-container\">\n",
              "      <div>\n",
              "<style scoped>\n",
              "    .dataframe tbody tr th:only-of-type {\n",
              "        vertical-align: middle;\n",
              "    }\n",
              "\n",
              "    .dataframe tbody tr th {\n",
              "        vertical-align: top;\n",
              "    }\n",
              "\n",
              "    .dataframe thead th {\n",
              "        text-align: right;\n",
              "    }\n",
              "</style>\n",
              "<table border=\"1\" class=\"dataframe\">\n",
              "  <thead>\n",
              "    <tr style=\"text-align: right;\">\n",
              "      <th></th>\n",
              "      <th>Age</th>\n",
              "      <th>Borough</th>\n",
              "      <th>Interests</th>\n",
              "      <th>Biography</th>\n",
              "      <th>Health services</th>\n",
              "      <th>Social services</th>\n",
              "      <th>Advocacy and Justice</th>\n",
              "      <th>Food and Agriculture</th>\n",
              "      <th>Education</th>\n",
              "      <th>Environment and Climate change</th>\n",
              "      <th>Recreation and Leisure</th>\n",
              "      <th>Technology and Innovation</th>\n",
              "      <th>Outreach and Advertising</th>\n",
              "      <th>Child services</th>\n",
              "      <th>BRONX</th>\n",
              "      <th>BROOKLYN</th>\n",
              "      <th>MANHATTAN</th>\n",
              "      <th>QUEENS</th>\n",
              "      <th>STATEN IS</th>\n",
              "    </tr>\n",
              "  </thead>\n",
              "  <tbody>\n",
              "    <tr>\n",
              "      <th>0</th>\n",
              "      <td>1</td>\n",
              "      <td>QUEENS</td>\n",
              "      <td>[Education, Advocacy and Justice]</td>\n",
              "      <td>[I would like to teach children subjects such ...</td>\n",
              "      <td>0</td>\n",
              "      <td>0</td>\n",
              "      <td>1</td>\n",
              "      <td>0</td>\n",
              "      <td>1</td>\n",
              "      <td>0</td>\n",
              "      <td>0</td>\n",
              "      <td>0</td>\n",
              "      <td>0</td>\n",
              "      <td>0</td>\n",
              "      <td>0</td>\n",
              "      <td>0</td>\n",
              "      <td>0</td>\n",
              "      <td>1</td>\n",
              "      <td>0</td>\n",
              "    </tr>\n",
              "    <tr>\n",
              "      <th>1</th>\n",
              "      <td>1</td>\n",
              "      <td>BRONX</td>\n",
              "      <td>[Social services]</td>\n",
              "      <td>[I helped with preparing food for the homeless...</td>\n",
              "      <td>0</td>\n",
              "      <td>1</td>\n",
              "      <td>0</td>\n",
              "      <td>0</td>\n",
              "      <td>0</td>\n",
              "      <td>0</td>\n",
              "      <td>0</td>\n",
              "      <td>0</td>\n",
              "      <td>0</td>\n",
              "      <td>0</td>\n",
              "      <td>1</td>\n",
              "      <td>0</td>\n",
              "      <td>0</td>\n",
              "      <td>0</td>\n",
              "      <td>0</td>\n",
              "    </tr>\n",
              "    <tr>\n",
              "      <th>2</th>\n",
              "      <td>1</td>\n",
              "      <td>QUEENS</td>\n",
              "      <td>[Child services]</td>\n",
              "      <td>[I want to coordinate living solutions for any...</td>\n",
              "      <td>0</td>\n",
              "      <td>0</td>\n",
              "      <td>0</td>\n",
              "      <td>0</td>\n",
              "      <td>0</td>\n",
              "      <td>0</td>\n",
              "      <td>0</td>\n",
              "      <td>0</td>\n",
              "      <td>0</td>\n",
              "      <td>1</td>\n",
              "      <td>0</td>\n",
              "      <td>0</td>\n",
              "      <td>0</td>\n",
              "      <td>1</td>\n",
              "      <td>0</td>\n",
              "    </tr>\n",
              "    <tr>\n",
              "      <th>3</th>\n",
              "      <td>1</td>\n",
              "      <td>QUEENS</td>\n",
              "      <td>[Child services]</td>\n",
              "      <td>[It is so fun working with kids and I love pla...</td>\n",
              "      <td>0</td>\n",
              "      <td>0</td>\n",
              "      <td>0</td>\n",
              "      <td>0</td>\n",
              "      <td>0</td>\n",
              "      <td>0</td>\n",
              "      <td>0</td>\n",
              "      <td>0</td>\n",
              "      <td>0</td>\n",
              "      <td>1</td>\n",
              "      <td>0</td>\n",
              "      <td>0</td>\n",
              "      <td>0</td>\n",
              "      <td>1</td>\n",
              "      <td>0</td>\n",
              "    </tr>\n",
              "    <tr>\n",
              "      <th>4</th>\n",
              "      <td>0</td>\n",
              "      <td>STATEN IS</td>\n",
              "      <td>[Outreach and Advertising, Environment and Cli...</td>\n",
              "      <td>[Contributing in small startups and equipping ...</td>\n",
              "      <td>0</td>\n",
              "      <td>0</td>\n",
              "      <td>0</td>\n",
              "      <td>0</td>\n",
              "      <td>0</td>\n",
              "      <td>1</td>\n",
              "      <td>0</td>\n",
              "      <td>0</td>\n",
              "      <td>1</td>\n",
              "      <td>0</td>\n",
              "      <td>0</td>\n",
              "      <td>0</td>\n",
              "      <td>0</td>\n",
              "      <td>0</td>\n",
              "      <td>1</td>\n",
              "    </tr>\n",
              "    <tr>\n",
              "      <th>...</th>\n",
              "      <td>...</td>\n",
              "      <td>...</td>\n",
              "      <td>...</td>\n",
              "      <td>...</td>\n",
              "      <td>...</td>\n",
              "      <td>...</td>\n",
              "      <td>...</td>\n",
              "      <td>...</td>\n",
              "      <td>...</td>\n",
              "      <td>...</td>\n",
              "      <td>...</td>\n",
              "      <td>...</td>\n",
              "      <td>...</td>\n",
              "      <td>...</td>\n",
              "      <td>...</td>\n",
              "      <td>...</td>\n",
              "      <td>...</td>\n",
              "      <td>...</td>\n",
              "      <td>...</td>\n",
              "    </tr>\n",
              "    <tr>\n",
              "      <th>195</th>\n",
              "      <td>1</td>\n",
              "      <td>QUEENS</td>\n",
              "      <td>[Food and Agriculture]</td>\n",
              "      <td>[I imagine serving free food and vegetables in...</td>\n",
              "      <td>0</td>\n",
              "      <td>0</td>\n",
              "      <td>0</td>\n",
              "      <td>1</td>\n",
              "      <td>0</td>\n",
              "      <td>0</td>\n",
              "      <td>0</td>\n",
              "      <td>0</td>\n",
              "      <td>0</td>\n",
              "      <td>0</td>\n",
              "      <td>0</td>\n",
              "      <td>0</td>\n",
              "      <td>0</td>\n",
              "      <td>1</td>\n",
              "      <td>0</td>\n",
              "    </tr>\n",
              "    <tr>\n",
              "      <th>196</th>\n",
              "      <td>0</td>\n",
              "      <td>BROOKLYN</td>\n",
              "      <td>[Child services, Outreach and Advertising]</td>\n",
              "      <td>[I really care about making the world safer fo...</td>\n",
              "      <td>0</td>\n",
              "      <td>0</td>\n",
              "      <td>0</td>\n",
              "      <td>0</td>\n",
              "      <td>0</td>\n",
              "      <td>0</td>\n",
              "      <td>0</td>\n",
              "      <td>0</td>\n",
              "      <td>1</td>\n",
              "      <td>1</td>\n",
              "      <td>0</td>\n",
              "      <td>1</td>\n",
              "      <td>0</td>\n",
              "      <td>0</td>\n",
              "      <td>0</td>\n",
              "    </tr>\n",
              "    <tr>\n",
              "      <th>197</th>\n",
              "      <td>1</td>\n",
              "      <td>MANHATTAN</td>\n",
              "      <td>[Health services]</td>\n",
              "      <td>[I imagine helping with blood donations and he...</td>\n",
              "      <td>1</td>\n",
              "      <td>0</td>\n",
              "      <td>0</td>\n",
              "      <td>0</td>\n",
              "      <td>0</td>\n",
              "      <td>0</td>\n",
              "      <td>0</td>\n",
              "      <td>0</td>\n",
              "      <td>0</td>\n",
              "      <td>0</td>\n",
              "      <td>0</td>\n",
              "      <td>0</td>\n",
              "      <td>1</td>\n",
              "      <td>0</td>\n",
              "      <td>0</td>\n",
              "    </tr>\n",
              "    <tr>\n",
              "      <th>198</th>\n",
              "      <td>1</td>\n",
              "      <td>BROOKLYN</td>\n",
              "      <td>[Child services, Environment and Climate change]</td>\n",
              "      <td>[I provided support for the child and family d...</td>\n",
              "      <td>0</td>\n",
              "      <td>0</td>\n",
              "      <td>0</td>\n",
              "      <td>0</td>\n",
              "      <td>0</td>\n",
              "      <td>1</td>\n",
              "      <td>0</td>\n",
              "      <td>0</td>\n",
              "      <td>0</td>\n",
              "      <td>1</td>\n",
              "      <td>0</td>\n",
              "      <td>1</td>\n",
              "      <td>0</td>\n",
              "      <td>0</td>\n",
              "      <td>0</td>\n",
              "    </tr>\n",
              "    <tr>\n",
              "      <th>199</th>\n",
              "      <td>1</td>\n",
              "      <td>MANHATTAN</td>\n",
              "      <td>[Advocacy and Justice, Food and Agriculture]</td>\n",
              "      <td>[I want to make a difference in the world., I ...</td>\n",
              "      <td>0</td>\n",
              "      <td>0</td>\n",
              "      <td>1</td>\n",
              "      <td>1</td>\n",
              "      <td>0</td>\n",
              "      <td>0</td>\n",
              "      <td>0</td>\n",
              "      <td>0</td>\n",
              "      <td>0</td>\n",
              "      <td>0</td>\n",
              "      <td>0</td>\n",
              "      <td>0</td>\n",
              "      <td>1</td>\n",
              "      <td>0</td>\n",
              "      <td>0</td>\n",
              "    </tr>\n",
              "  </tbody>\n",
              "</table>\n",
              "<p>200 rows × 19 columns</p>\n",
              "</div>\n",
              "      <button class=\"colab-df-convert\" onclick=\"convertToInteractive('df-fe976ee4-bc35-4256-8642-9453d9a4f58e')\"\n",
              "              title=\"Convert this dataframe to an interactive table.\"\n",
              "              style=\"display:none;\">\n",
              "        \n",
              "  <svg xmlns=\"http://www.w3.org/2000/svg\" height=\"24px\"viewBox=\"0 0 24 24\"\n",
              "       width=\"24px\">\n",
              "    <path d=\"M0 0h24v24H0V0z\" fill=\"none\"/>\n",
              "    <path d=\"M18.56 5.44l.94 2.06.94-2.06 2.06-.94-2.06-.94-.94-2.06-.94 2.06-2.06.94zm-11 1L8.5 8.5l.94-2.06 2.06-.94-2.06-.94L8.5 2.5l-.94 2.06-2.06.94zm10 10l.94 2.06.94-2.06 2.06-.94-2.06-.94-.94-2.06-.94 2.06-2.06.94z\"/><path d=\"M17.41 7.96l-1.37-1.37c-.4-.4-.92-.59-1.43-.59-.52 0-1.04.2-1.43.59L10.3 9.45l-7.72 7.72c-.78.78-.78 2.05 0 2.83L4 21.41c.39.39.9.59 1.41.59.51 0 1.02-.2 1.41-.59l7.78-7.78 2.81-2.81c.8-.78.8-2.07 0-2.86zM5.41 20L4 18.59l7.72-7.72 1.47 1.35L5.41 20z\"/>\n",
              "  </svg>\n",
              "      </button>\n",
              "      \n",
              "  <style>\n",
              "    .colab-df-container {\n",
              "      display:flex;\n",
              "      flex-wrap:wrap;\n",
              "      gap: 12px;\n",
              "    }\n",
              "\n",
              "    .colab-df-convert {\n",
              "      background-color: #E8F0FE;\n",
              "      border: none;\n",
              "      border-radius: 50%;\n",
              "      cursor: pointer;\n",
              "      display: none;\n",
              "      fill: #1967D2;\n",
              "      height: 32px;\n",
              "      padding: 0 0 0 0;\n",
              "      width: 32px;\n",
              "    }\n",
              "\n",
              "    .colab-df-convert:hover {\n",
              "      background-color: #E2EBFA;\n",
              "      box-shadow: 0px 1px 2px rgba(60, 64, 67, 0.3), 0px 1px 3px 1px rgba(60, 64, 67, 0.15);\n",
              "      fill: #174EA6;\n",
              "    }\n",
              "\n",
              "    [theme=dark] .colab-df-convert {\n",
              "      background-color: #3B4455;\n",
              "      fill: #D2E3FC;\n",
              "    }\n",
              "\n",
              "    [theme=dark] .colab-df-convert:hover {\n",
              "      background-color: #434B5C;\n",
              "      box-shadow: 0px 1px 3px 1px rgba(0, 0, 0, 0.15);\n",
              "      filter: drop-shadow(0px 1px 2px rgba(0, 0, 0, 0.3));\n",
              "      fill: #FFFFFF;\n",
              "    }\n",
              "  </style>\n",
              "\n",
              "      <script>\n",
              "        const buttonEl =\n",
              "          document.querySelector('#df-fe976ee4-bc35-4256-8642-9453d9a4f58e button.colab-df-convert');\n",
              "        buttonEl.style.display =\n",
              "          google.colab.kernel.accessAllowed ? 'block' : 'none';\n",
              "\n",
              "        async function convertToInteractive(key) {\n",
              "          const element = document.querySelector('#df-fe976ee4-bc35-4256-8642-9453d9a4f58e');\n",
              "          const dataTable =\n",
              "            await google.colab.kernel.invokeFunction('convertToInteractive',\n",
              "                                                     [key], {});\n",
              "          if (!dataTable) return;\n",
              "\n",
              "          const docLinkHtml = 'Like what you see? Visit the ' +\n",
              "            '<a target=\"_blank\" href=https://colab.research.google.com/notebooks/data_table.ipynb>data table notebook</a>'\n",
              "            + ' to learn more about interactive tables.';\n",
              "          element.innerHTML = '';\n",
              "          dataTable['output_type'] = 'display_data';\n",
              "          await google.colab.output.renderOutput(dataTable, element);\n",
              "          const docLink = document.createElement('div');\n",
              "          docLink.innerHTML = docLinkHtml;\n",
              "          element.appendChild(docLink);\n",
              "        }\n",
              "      </script>\n",
              "    </div>\n",
              "  </div>\n",
              "  "
            ]
          },
          "metadata": {},
          "execution_count": 379
        }
      ]
    },
    {
      "cell_type": "markdown",
      "source": [
        "Save encoded user dataset as csv file "
      ],
      "metadata": {
        "id": "OG_iHvrjZbpo"
      }
    },
    {
      "cell_type": "code",
      "source": [
        "#df_final.to_csv('/content/encoded_user_final_dataset.csv')"
      ],
      "metadata": {
        "id": "_ueUnlroZVQG"
      },
      "execution_count": 380,
      "outputs": []
    }
  ]
}